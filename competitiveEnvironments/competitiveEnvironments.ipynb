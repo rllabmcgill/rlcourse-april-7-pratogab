{
 "cells": [
  {
   "cell_type": "markdown",
   "metadata": {},
   "source": [
    "# Reinforcement Algorithms in Competitive Environments\n",
    "<b>Gabriele Prato, McGill University</b>\n",
    "\n",
    "In the COMP767 course we've seen many reinforcement learning algorithms in different environments, but never in a competitive one.\n",
    "\n",
    "In this notebook we will take a look at such environments and compare two algorithms, Sarsa and Q-learning, on them.\n",
    "\n",
    "We will implement two environments of our own, not found in the class textbook [1] as well as the Sarsa and Q-learning alrgorithms [1].\n",
    "\n",
    "## Libraries and Modules"
   ]
  },
  {
   "cell_type": "code",
   "execution_count": 1,
   "metadata": {
    "collapsed": false
   },
   "outputs": [
    {
     "name": "stdout",
     "output_type": "stream",
     "text": [
      "Requirement already satisfied: ipythonblocks in /Users/prato/anaconda/lib/python2.7/site-packages\r\n",
      "Requirement already satisfied: requests>=1.0 in /Users/prato/anaconda/lib/python2.7/site-packages (from ipythonblocks)\r\n"
     ]
    }
   ],
   "source": [
    "!pip install ipythonblocks"
   ]
  },
  {
   "cell_type": "code",
   "execution_count": 2,
   "metadata": {
    "collapsed": true
   },
   "outputs": [],
   "source": [
    "import time\n",
    "import random\n",
    "import numpy as np\n",
    "import matplotlib.pyplot as plt\n",
    "from ipythonblocks import BlockGrid\n",
    "from IPython.display import clear_output"
   ]
  },
  {
   "cell_type": "markdown",
   "metadata": {},
   "source": [
    "## Environment 1: Soccer\n",
    "\n",
    "The following environment is a basic competitive environment in which two agents try to score points by kicking a ball in the opposite goal across the grid. The agents can block incoming shots by placing themselves between the incoming ball and their goal. Here is what the environment looks like:\n",
    "\n",
    "![soccer](soccer.png)\n",
    "\n",
    "Agent 0: <span style=\"color:#00ff00;font-size:200%\">■</span> &nbsp;\n",
    "Agent 1: <span style=\"color:blue;font-size:200%\">■</span> &nbsp;\n",
    "Grid: <span style=\"color:#e0e0e0;font-size:200%\">■</span> &nbsp;\n",
    "Goal: <span style=\"color:yellow;font-size: 200%\">■</span> &nbsp;\n",
    "\n",
    "Ball: <span style=\"color:red;font-size: 200%\">■</span> (currently not on screen)\n",
    "\n",
    "Every time-step, the agents can either move left, right or kick a ball."
   ]
  },
  {
   "cell_type": "code",
   "execution_count": 5,
   "metadata": {
    "collapsed": false
   },
   "outputs": [],
   "source": [
    "MOVE_LEFT = np.array([0, -1])\n",
    "MOVE_RIGHT = np.array([0, 1])\n",
    "SHOOT = np.array([0, 0])\n",
    "ACTIONS = np.array([MOVE_LEFT, MOVE_RIGHT, SHOOT])"
   ]
  },
  {
   "cell_type": "markdown",
   "metadata": {},
   "source": [
    "The agents get a reward of 1 for scoring a goal, but a reward of -1 for getting scored (if they both score, they both get a reward of -1). When no goal is scored for both agents, they get a reward of 0. As is the case with other Gridworlds exercices, agents cannot leave the grid. They can waste an action trying to move outside of it, but they will stay in the same state or \"position\" as before the action and rewards will be as usual."
   ]
  },
  {
   "cell_type": "code",
   "execution_count": 8,
   "metadata": {
    "collapsed": true
   },
   "outputs": [],
   "source": [
    "class Soccer:\n",
    "    def __init__(self):\n",
    "        self.agentStates = [[1, 1], [4, 1]]\n",
    "        self.MAX_ROW = 5\n",
    "        self.MAX_COLUMN = 2\n",
    "    \n",
    "    def reset(self):\n",
    "        self.agentStates = [[1, 1], [4, 1]]\n",
    "    \n",
    "    def executeActions(self, actionId0, actionId1):\n",
    "        actionAgent0 = ACTIONS[actionId0]\n",
    "        actionAgent1 = ACTIONS[actionId1]\n",
    "        \n",
    "        agent0Moves = actionId0 == 0 or actionId0 == 1\n",
    "        agent1Moves = actionId1 == 0 or actionId1 == 1\n",
    "        \n",
    "        if agent0Moves and self.isMoveAllowed(0, actionAgent0):\n",
    "            self.agentStates[0] += actionAgent0\n",
    "        \n",
    "        if agent1Moves and self.isMoveAllowed(1, actionAgent1):\n",
    "            self.agentStates[1] += actionAgent1\n",
    "            \n",
    "        reward0 = 0\n",
    "        reward1 = 0\n",
    "          \n",
    "        # Kicking a ball\n",
    "        if not agent0Moves:\n",
    "            reward0 = self.shoot(0)\n",
    "        \n",
    "        if not agent1Moves:\n",
    "            reward1 = self.shoot(1)\n",
    "        \n",
    "        reward1Copy = reward1\n",
    "        if reward0 == 1:\n",
    "            reward1 = -1\n",
    "        if reward1Copy == 1:\n",
    "            reward0 = -1\n",
    "        \n",
    "        return reward0, reward1\n",
    "    \n",
    "    def isMoveAllowed(self, agentId, action):\n",
    "        stateAfterAction = self.agentStates[agentId] + action\n",
    "        return stateAfterAction[1] >= 0 and stateAfterAction[1] <= self.MAX_COLUMN\n",
    "    \n",
    "    def shoot(self, agentId):\n",
    "        if self.agentStates[agentId][1] == self.agentStates[1 - agentId][1]:\n",
    "            return 0\n",
    "        else:\n",
    "            return 1\n",
    "        \n",
    "    # Displays the current state of the environment in a nice colored grid\n",
    "    def view(self, actionId0, actionId1):\n",
    "        grid = BlockGrid(self.MAX_COLUMN + 1, self.MAX_ROW + 1, fill=(224, 224, 224))\n",
    "        \n",
    "        bullet0Stopped = actionId0 != 2\n",
    "        bullet1Stopped = actionId1 != 2\n",
    "        \n",
    "        # Animation loop\n",
    "        for i in range(5):\n",
    "            grid[:, :] = (224, 224, 224)\n",
    "            grid[self.MAX_ROW - self.agentStates[0][0], self.agentStates[0][1]] = (0, 255, 0)\n",
    "            grid[self.MAX_ROW - self.agentStates[1][0], self.agentStates[1][1]] = (0, 0, 255)\n",
    "            grid[0, :] = (255, 255, 0)\n",
    "            grid[self.MAX_ROW, :] = (255, 255, 0)\n",
    "            \n",
    "            if i == 0:\n",
    "                clear_output()\n",
    "                grid.show()\n",
    "                time.sleep(0.2)\n",
    "                continue\n",
    "            \n",
    "            if i == 3 and self.agentStates[0][1] == self.agentStates[1][1]:\n",
    "                bullet0Stopped = True\n",
    "                bullet1Stopped = True\n",
    "            \n",
    "            if not bullet0Stopped:\n",
    "                grid[4 - i, self.agentStates[0][1]] = (255, 0, 0)\n",
    "            \n",
    "            if not bullet1Stopped:\n",
    "                grid[1 + i, self.agentStates[1][1]] = (255, 0, 0)\n",
    "                \n",
    "            clear_output()\n",
    "            grid.show()\n",
    "            time.sleep(0.2)"
   ]
  },
  {
   "cell_type": "markdown",
   "metadata": {},
   "source": [
    "Let's view what kicking a ball looks like:"
   ]
  },
  {
   "cell_type": "code",
   "execution_count": 9,
   "metadata": {
    "collapsed": false
   },
   "outputs": [
    {
     "data": {
      "text/html": [
       "<style type=\"text/css\">table.blockgrid {border: none;} .blockgrid tr {border: none;} .blockgrid td {padding: 0px;} #blocks000f0025-0037-400a-a06f-dc1a4c12b600 td {border: 1px solid white;}</style><table id=\"blocks000f0025-0037-400a-a06f-dc1a4c12b600\" class=\"blockgrid\"><tbody><tr><td title=\"Index: [0, 0]&#10;Color: (255, 255, 0)\" style=\"width: 20px; height: 20px;background-color: rgb(255, 255, 0);\"></td><td title=\"Index: [0, 1]&#10;Color: (255, 255, 0)\" style=\"width: 20px; height: 20px;background-color: rgb(255, 255, 0);\"></td><td title=\"Index: [0, 2]&#10;Color: (255, 255, 0)\" style=\"width: 20px; height: 20px;background-color: rgb(255, 255, 0);\"></td></tr><tr><td title=\"Index: [1, 0]&#10;Color: (0, 0, 255)\" style=\"width: 20px; height: 20px;background-color: rgb(0, 0, 255);\"></td><td title=\"Index: [1, 1]&#10;Color: (224, 224, 224)\" style=\"width: 20px; height: 20px;background-color: rgb(224, 224, 224);\"></td><td title=\"Index: [1, 2]&#10;Color: (224, 224, 224)\" style=\"width: 20px; height: 20px;background-color: rgb(224, 224, 224);\"></td></tr><tr><td title=\"Index: [2, 0]&#10;Color: (224, 224, 224)\" style=\"width: 20px; height: 20px;background-color: rgb(224, 224, 224);\"></td><td title=\"Index: [2, 1]&#10;Color: (224, 224, 224)\" style=\"width: 20px; height: 20px;background-color: rgb(224, 224, 224);\"></td><td title=\"Index: [2, 2]&#10;Color: (224, 224, 224)\" style=\"width: 20px; height: 20px;background-color: rgb(224, 224, 224);\"></td></tr><tr><td title=\"Index: [3, 0]&#10;Color: (224, 224, 224)\" style=\"width: 20px; height: 20px;background-color: rgb(224, 224, 224);\"></td><td title=\"Index: [3, 1]&#10;Color: (224, 224, 224)\" style=\"width: 20px; height: 20px;background-color: rgb(224, 224, 224);\"></td><td title=\"Index: [3, 2]&#10;Color: (224, 224, 224)\" style=\"width: 20px; height: 20px;background-color: rgb(224, 224, 224);\"></td></tr><tr><td title=\"Index: [4, 0]&#10;Color: (224, 224, 224)\" style=\"width: 20px; height: 20px;background-color: rgb(224, 224, 224);\"></td><td title=\"Index: [4, 1]&#10;Color: (0, 255, 0)\" style=\"width: 20px; height: 20px;background-color: rgb(0, 255, 0);\"></td><td title=\"Index: [4, 2]&#10;Color: (224, 224, 224)\" style=\"width: 20px; height: 20px;background-color: rgb(224, 224, 224);\"></td></tr><tr><td title=\"Index: [5, 0]&#10;Color: (255, 255, 0)\" style=\"width: 20px; height: 20px;background-color: rgb(255, 255, 0);\"></td><td title=\"Index: [5, 1]&#10;Color: (255, 255, 0)\" style=\"width: 20px; height: 20px;background-color: rgb(255, 255, 0);\"></td><td title=\"Index: [5, 2]&#10;Color: (255, 255, 0)\" style=\"width: 20px; height: 20px;background-color: rgb(255, 255, 0);\"></td></tr></tbody></table>"
      ],
      "text/plain": [
       "<IPython.core.display.HTML object>"
      ]
     },
     "metadata": {},
     "output_type": "display_data"
    }
   ],
   "source": [
    "environment = Soccer()\n",
    "environment.agentStates[1] = [4, 0]\n",
    "environment.view(0, 2)\n",
    "environment.view(0, 0)"
   ]
  },
  {
   "cell_type": "markdown",
   "metadata": {},
   "source": [
    "<b>The animation might seem to flicker, that is caused by the code clearing the output everytime time to redraw the grid.</b>\n",
    "\n",
    "Now that we have our environment, let's implement our reinforcement learning algorithms, Sarsa and Q-learning. The class ControlAlgorithm is the basis for both algorithms. The Sarsa and QLearning class will only contain the core of the algorithm.\n",
    "\n",
    "A key difference here with usual Grid environments, is that each algorithm's Q will contain the position of their enemy as well as their own position. The other agent's position comes into the decision process of the algorithm.\n",
    "\n",
    "Since both agents act simultaneously, we need to split Sarsa's and Q-learning's algorithm in two. They start by choosing an action, then both actions will be executed and the reward for both algorithms will be returned so that they can compute changes to their Q."
   ]
  },
  {
   "cell_type": "code",
   "execution_count": 14,
   "metadata": {
    "collapsed": true
   },
   "outputs": [],
   "source": [
    "class ControlAlgorithm:\n",
    "    def __init__(self, environment, agentId, ALPHA, DISCOUNT, EPSILON):\n",
    "        self.Q = np.zeros((3, 3, 3)) # Agent's column, enemy's column, actions\n",
    "        self.environment = environment\n",
    "        self.agentId = agentId\n",
    "        self.ALPHA = ALPHA\n",
    "        self.DISCOUNT = DISCOUNT\n",
    "        self.EPSILON = EPSILON\n",
    "        self.actionId = 0\n",
    "        self.previousState = np.copy(self.environment.agentStates[self.agentId])\n",
    "        self.previousEnemyState = np.copy(self.environment.agentStates[1 - self.agentId])\n",
    "    \n",
    "    def resetQ(self):\n",
    "        self.Q = np.zeros((3, 3, 3))\n",
    "        \n",
    "    def prepareBeforeTimeStep(self):\n",
    "        self.previousState = np.copy(self.environment.agentStates[self.agentId])\n",
    "        self.previousEnemyState = np.copy(self.environment.agentStates[1 - self.agentId])\n",
    "        self.actionId = self.chooseAction()\n",
    "    \n",
    "    def chooseAction(self):\n",
    "        if np.random.rand(1)[0] <= self.EPSILON:\n",
    "            actionId = np.random.randint(ACTIONS.shape[0], size=1)[0]\n",
    "        else:\n",
    "            actionId = np.argmax(self.Q[self.environment.agentStates[self.agentId][1], \n",
    "                                        self.environment.agentStates[1 - self.agentId][1]])\n",
    "            \n",
    "            # If multiple actions have the same max value, we need to choose one of them randomly\n",
    "            possibleActions = []\n",
    "            for i in range(ACTIONS.shape[0]):\n",
    "                if (self.Q[self.environment.agentStates[self.agentId][1], \n",
    "                           self.environment.agentStates[1 - self.agentId][1], i] == \n",
    "                    self.Q[self.environment.agentStates[self.agentId][1], \n",
    "                           self.environment.agentStates[1 - self.agentId][1], actionId]\n",
    "                   ):\n",
    "                    possibleActions.append(i)\n",
    "                    \n",
    "            actionId = random.choice(possibleActions)\n",
    "        \n",
    "        return actionId"
   ]
  },
  {
   "cell_type": "code",
   "execution_count": 15,
   "metadata": {
    "collapsed": false
   },
   "outputs": [],
   "source": [
    "class Sarsa(ControlAlgorithm):\n",
    "    def __init__(self, environment, agentId, ALPHA, DISCOUNT, EPSILON):\n",
    "        ControlAlgorithm.__init__(self, environment, agentId, ALPHA, DISCOUNT, EPSILON)\n",
    "    \n",
    "    def reactToReward(self, reward):\n",
    "        nextActionId = self.chooseAction()\n",
    "        \n",
    "        self.Q[self.previousState[1], self.previousEnemyState[1], self.actionId] += self.ALPHA * ( \n",
    "            reward + self.DISCOUNT * self.Q[self.environment.agentStates[self.agentId][1], \n",
    "                                            self.environment.agentStates[1 - self.agentId][1], nextActionId] \n",
    "            - self.Q[self.previousState[1], self.previousEnemyState[1], self.actionId])\n",
    "            \n",
    "        self.actionId = nextActionId"
   ]
  },
  {
   "cell_type": "code",
   "execution_count": 16,
   "metadata": {
    "collapsed": false
   },
   "outputs": [],
   "source": [
    "class Qlearning(ControlAlgorithm):\n",
    "    def __init__(self, environment, agentId, ALPHA, DISCOUNT, EPSILON):\n",
    "        ControlAlgorithm.__init__(self, environment, agentId, ALPHA, DISCOUNT, EPSILON)\n",
    "        \n",
    "    def reactToReward(self, reward):\n",
    "        self.Q[self.previousState[1], self.previousEnemyState[1], self.actionId] += self.ALPHA * ( \n",
    "            reward + self.DISCOUNT * np.max(self.Q[self.environment.agentStates[self.agentId][1], \n",
    "                                            self.environment.agentStates[1 - self.agentId][1]])\n",
    "            -  self.Q[self.previousState[1], self.previousEnemyState[1], self.actionId])"
   ]
  },
  {
   "cell_type": "markdown",
   "metadata": {},
   "source": [
    "Finally, the GameManager class handles the simultaneous part. It tells both algorithm to pick an action, then tells the environment which actions will be performed, collects the reward and returns it to the algorithms. This cycle continues until the game is over, which by default is a 100 time-steps. The agent with the most cumulated rewards wins the game."
   ]
  },
  {
   "cell_type": "code",
   "execution_count": 17,
   "metadata": {
    "collapsed": false
   },
   "outputs": [],
   "source": [
    "class GameManager:\n",
    "    def __init__(self, environment, agent0, agent1, MAX_GAME_LENGTH=100):\n",
    "        self.environment = environment\n",
    "        self.agent0 = agent0\n",
    "        self.agent1 = agent1\n",
    "        self.MAX_GAME_LENGTH = MAX_GAME_LENGTH\n",
    "    \n",
    "    def generateEpisode(self, visualize=False):\n",
    "        self.environment.reset()\n",
    "        \n",
    "        cumulativeReward0 = 0\n",
    "        cumulativeReward1 = 1\n",
    "        \n",
    "        for i in range(self.MAX_GAME_LENGTH):\n",
    "            self.agent0.prepareBeforeTimeStep()\n",
    "            self.agent1.prepareBeforeTimeStep()\n",
    "            \n",
    "            rewardAgent0, rewardAgent1 = self.environment.executeActions(self.agent0.actionId, self.agent1.actionId)\n",
    "            cumulativeReward0 += rewardAgent0\n",
    "            cumulativeReward1 += rewardAgent1\n",
    "                \n",
    "            self.agent0.reactToReward(rewardAgent0)\n",
    "            self.agent1.reactToReward(rewardAgent1)\n",
    "            \n",
    "            if visualize:\n",
    "                self.environment.view(self.agent0.actionId, self.agent1.actionId)\n",
    "        \n",
    "        if visualize:\n",
    "            self.environment.view(0, 0)\n",
    "        \n",
    "        return cumulativeReward0, cumulativeReward1"
   ]
  },
  {
   "cell_type": "markdown",
   "metadata": {},
   "source": [
    "We can now compare both algorithms on the environment. This will be an undiscounted case, γ = 1.0. We will use an α of 0.5 and an ε of 0.1, as is usually the case for grid environments in the textbook [1]."
   ]
  },
  {
   "cell_type": "code",
   "execution_count": 18,
   "metadata": {
    "collapsed": false
   },
   "outputs": [
    {
     "data": {
      "image/png": "[encoded data removed]",
      "text/plain": [
       "<matplotlib.figure.Figure at 0x107f3aa90>"
      ]
     },
     "metadata": {},
     "output_type": "display_data"
    }
   ],
   "source": [
    "ALPHA = 0.5\n",
    "DISCOUNT = 1.0\n",
    "EPSILON = 0.1\n",
    "environment = Soccer()\n",
    "\n",
    "sarsa = Sarsa(environment, 0, ALPHA, DISCOUNT, EPSILON)\n",
    "ql = Qlearning(environment, 1, ALPHA, DISCOUNT, EPSILON)\n",
    "\n",
    "gm = GameManager(environment, sarsa, ql, 50)\n",
    "cumulativeRewards = np.zeros((2, 1000, 100))\n",
    "for i in range(1000):\n",
    "    sarsa.resetQ()\n",
    "    ql.resetQ()\n",
    "    for j in range(100):\n",
    "        cumulativeRewards[0, i, j], cumulativeRewards[1, i, j] = gm.generateEpisode()\n",
    "\n",
    "averageRewards0 = np.average(cumulativeRewards[0], axis=0)\n",
    "averageRewards1 = np.average(cumulativeRewards[1], axis=0)\n",
    "\n",
    "plt.plot(np.arange(1, 101), averageRewards0, 'g', label=\"Sarsa\")\n",
    "plt.plot(np.arange(1, 101), averageRewards1, 'b', label=\"Q-learning\")\n",
    "plt.legend(bbox_to_anchor=(1.05, 1), loc=2, borderaxespad=0.)\n",
    "plt.xlabel('Games (episodes)')\n",
    "plt.ylabel('Cumulative Reward')\n",
    "plt.title('Soccer Game, averaged over 1000 runs of 100 games')\n",
    "plt.show()"
   ]
  },
  {
   "cell_type": "markdown",
   "metadata": {},
   "source": [
    "As we can see, Q-learning is clearly performing better than Sarsa, scoring more goals on average.\n",
    "\n",
    "Both algorithms quickly learn their best policy, but Q-learning's is better.\n",
    "\n",
    "The obvious optimal policy here is to always kick a ball, throughout the whole game. Let's view what optimal policy Sarsa and Q-learning have learned:"
   ]
  },
  {
   "cell_type": "code",
   "execution_count": 21,
   "metadata": {
    "collapsed": false
   },
   "outputs": [
    {
     "data": {
      "text/html": [
       "<style type=\"text/css\">table.blockgrid {border: none;} .blockgrid tr {border: none;} .blockgrid td {padding: 0px;} #blocks4d8a2402-2646-46df-98ed-7145864666dc td {border: 1px solid white;}</style><table id=\"blocks4d8a2402-2646-46df-98ed-7145864666dc\" class=\"blockgrid\"><tbody><tr><td title=\"Index: [0, 0]&#10;Color: (255, 255, 0)\" style=\"width: 20px; height: 20px;background-color: rgb(255, 255, 0);\"></td><td title=\"Index: [0, 1]&#10;Color: (255, 255, 0)\" style=\"width: 20px; height: 20px;background-color: rgb(255, 255, 0);\"></td><td title=\"Index: [0, 2]&#10;Color: (255, 255, 0)\" style=\"width: 20px; height: 20px;background-color: rgb(255, 255, 0);\"></td></tr><tr><td title=\"Index: [1, 0]&#10;Color: (224, 224, 224)\" style=\"width: 20px; height: 20px;background-color: rgb(224, 224, 224);\"></td><td title=\"Index: [1, 1]&#10;Color: (0, 0, 255)\" style=\"width: 20px; height: 20px;background-color: rgb(0, 0, 255);\"></td><td title=\"Index: [1, 2]&#10;Color: (224, 224, 224)\" style=\"width: 20px; height: 20px;background-color: rgb(224, 224, 224);\"></td></tr><tr><td title=\"Index: [2, 0]&#10;Color: (224, 224, 224)\" style=\"width: 20px; height: 20px;background-color: rgb(224, 224, 224);\"></td><td title=\"Index: [2, 1]&#10;Color: (224, 224, 224)\" style=\"width: 20px; height: 20px;background-color: rgb(224, 224, 224);\"></td><td title=\"Index: [2, 2]&#10;Color: (224, 224, 224)\" style=\"width: 20px; height: 20px;background-color: rgb(224, 224, 224);\"></td></tr><tr><td title=\"Index: [3, 0]&#10;Color: (224, 224, 224)\" style=\"width: 20px; height: 20px;background-color: rgb(224, 224, 224);\"></td><td title=\"Index: [3, 1]&#10;Color: (224, 224, 224)\" style=\"width: 20px; height: 20px;background-color: rgb(224, 224, 224);\"></td><td title=\"Index: [3, 2]&#10;Color: (224, 224, 224)\" style=\"width: 20px; height: 20px;background-color: rgb(224, 224, 224);\"></td></tr><tr><td title=\"Index: [4, 0]&#10;Color: (224, 224, 224)\" style=\"width: 20px; height: 20px;background-color: rgb(224, 224, 224);\"></td><td title=\"Index: [4, 1]&#10;Color: (0, 255, 0)\" style=\"width: 20px; height: 20px;background-color: rgb(0, 255, 0);\"></td><td title=\"Index: [4, 2]&#10;Color: (224, 224, 224)\" style=\"width: 20px; height: 20px;background-color: rgb(224, 224, 224);\"></td></tr><tr><td title=\"Index: [5, 0]&#10;Color: (255, 255, 0)\" style=\"width: 20px; height: 20px;background-color: rgb(255, 255, 0);\"></td><td title=\"Index: [5, 1]&#10;Color: (255, 255, 0)\" style=\"width: 20px; height: 20px;background-color: rgb(255, 255, 0);\"></td><td title=\"Index: [5, 2]&#10;Color: (255, 255, 0)\" style=\"width: 20px; height: 20px;background-color: rgb(255, 255, 0);\"></td></tr></tbody></table>"
      ],
      "text/plain": [
       "<IPython.core.display.HTML object>"
      ]
     },
     "metadata": {},
     "output_type": "display_data"
    },
    {
     "data": {
      "text/plain": [
       "(0, 1)"
      ]
     },
     "execution_count": 21,
     "metadata": {},
     "output_type": "execute_result"
    }
   ],
   "source": [
    "gm.generateEpisode(visualize=True)"
   ]
  },
  {
   "cell_type": "markdown",
   "metadata": {},
   "source": [
    "Randomness can affect results here, but usually, Q-learning is the one that moves the less and keeps shooting.\n",
    "\n",
    "Now let's take a look at an other competitive environment.\n",
    "\n",
    "## Trick Maze\n",
    "\n",
    "This time, the agents will be seperated. They will both be in an exact copy of the environment, but will be able to influence the other agent's environment.\n",
    "\n",
    "The agents will have to reach the goal in a grid environment. Each environment will have a button that will close the shortest path to the goal of the other agent's environment. The catch is that when one agent presses on his button, the other agent's button disappears and can no longer be pressed.\n",
    "\n",
    "Here's what it looks like:\n",
    "\n",
    "![trickmaze](trickmaze.png)\n",
    "\n",
    "Agent 0: <span style=\"color:#00ff00;font-size:200%\">■</span> &nbsp;\n",
    "Agent 1: <span style=\"color:blue;font-size:200%\">■</span> &nbsp;\n",
    "Grid: <span style=\"color:#e0e0e0;font-size:200%\">■</span> &nbsp;\n",
    "Goal: <span style=\"color:red;font-size: 200%\">■</span> &nbsp;\n",
    "Button: <span style=\"color:#8B4513;font-size: 200%\">■</span> &nbsp;\n",
    "\n",
    "And here's when an agent presses on a button:\n",
    "\n",
    "![trickmaze2](trickmaze2.png)\n",
    "\n",
    "The shortest path for the first agent closes and both buttons disappear. The blue agent can use both the short and the long path, while the green agent must explicitly take the long path.\n",
    "\n",
    "Every time-step, the agents can move in any four directions:"
   ]
  },
  {
   "cell_type": "code",
   "execution_count": 12,
   "metadata": {
    "collapsed": true
   },
   "outputs": [],
   "source": [
    "UP = np.array([1, 0])\n",
    "RIGHT = np.array([0, 1])\n",
    "DOWN = np.array([-1, 0])\n",
    "LEFT = np.array([0, -1])\n",
    "\n",
    "ACTIONS = np.array([UP, RIGHT, DOWN, LEFT])"
   ]
  },
  {
   "cell_type": "markdown",
   "metadata": {},
   "source": [
    "As was the case with the Soccer environment, both agents move simultaneously.\n",
    "\n",
    "The agents get a constant reward of 0 and a reward of 1 for reaching the goal. No reward is given for pressing the button, as we want to see if the agents will learn on their own that pressing the button is better for them. As is the case with other Gridworlds exercices, agents cannot leave the grid. They can waste an action trying to move outside of it, but they will stay in the same state or \"position\" as before the action and rewards will be as usual."
   ]
  },
  {
   "cell_type": "code",
   "execution_count": 48,
   "metadata": {
    "collapsed": true
   },
   "outputs": [],
   "source": [
    "class TrickMaze:\n",
    "    def __init__(self):\n",
    "        self.agentStates = [[0, 2], [0, 2]]\n",
    "        self.GOAL = [4, 2]\n",
    "        self.BUTTON = [0, 1]\n",
    "        self.MAX_ROW = 4\n",
    "        self.MAX_COLUMN = 2\n",
    "        self.BLOCKS = [[[3, 1]], [[3, 1]]]\n",
    "        self.BUTTON_PRESSED = False\n",
    "    \n",
    "    def reset(self):\n",
    "        self.agentStates = [[0, 2], [0, 2]]\n",
    "        self.BLOCKS = [[[3, 1]], [[3, 1]]]\n",
    "        self.BUTTON_PRESSED = False\n",
    "        self.stepCount = 0\n",
    "    \n",
    "    def executeActions(self, actionId0, actionId1):\n",
    "        actionAgent0 = ACTIONS[actionId0]\n",
    "        actionAgent1 = ACTIONS[actionId1]\n",
    "        \n",
    "        if self.isMoveAllowed(0, actionAgent0):\n",
    "            self.agentStates[0] += actionAgent0\n",
    "\n",
    "        if self.isMoveAllowed(1, actionAgent1):\n",
    "            self.agentStates[1] += actionAgent1\n",
    "        \n",
    "        if np.array_equal(self.agentStates[0], self.BUTTON) and not self.BUTTON_PRESSED:\n",
    "            self.BLOCKS[1].append([3, 2])\n",
    "            self.BUTTON_PRESSED = True\n",
    "        \n",
    "        if np.array_equal(self.agentStates[1], self.BUTTON) and not self.BUTTON_PRESSED:\n",
    "            self.BLOCKS[0].append([3, 2])\n",
    "            self.BUTTON_PRESSED = True\n",
    "            \n",
    "        reward0 = 0\n",
    "        reward1 = 0\n",
    "        \n",
    "        if np.array_equal(self.agentStates[0], self.GOAL):\n",
    "            reward0 = 1\n",
    "        if np.array_equal(self.agentStates[1], self.GOAL):\n",
    "            reward1 = 1\n",
    "        \n",
    "        return reward0, reward1\n",
    "    \n",
    "    def isMoveAllowed(self, agentId, action):\n",
    "        stateAfterAction = self.agentStates[agentId] + action\n",
    "        \n",
    "        if (stateAfterAction[0] < 0 or stateAfterAction[0] > self.MAX_ROW or\n",
    "            stateAfterAction[1] < 0 or stateAfterAction[1] > self.MAX_COLUMN):\n",
    "                return False\n",
    "        \n",
    "        for block in self.BLOCKS[agentId]:\n",
    "            if np.array_equal(stateAfterAction, block):\n",
    "                return False\n",
    "        \n",
    "        return True\n",
    "        \n",
    "    # Displays the current state of the environment in a nice colored grid\n",
    "    def view(self):\n",
    "        clear_output()\n",
    "        \n",
    "        grid0 = BlockGrid(self.MAX_COLUMN + 1, self.MAX_ROW + 1, fill=(224, 224, 224))\n",
    "        grid1 = BlockGrid(self.MAX_COLUMN + 1, self.MAX_ROW + 1, fill=(224, 224, 224))\n",
    "        grid0[self.MAX_ROW - self.GOAL[0], self.GOAL[1]] = (255, 0, 0)\n",
    "        grid1[self.MAX_ROW - self.GOAL[0], self.GOAL[1]] = (255, 0, 0)\n",
    "        if not self.BUTTON_PRESSED:\n",
    "            grid0[self.MAX_ROW - self.BUTTON[0], self.BUTTON[1]] = (139, 69, 19)\n",
    "            grid1[self.MAX_ROW - self.BUTTON[0], self.BUTTON[1]] = (139, 69, 19)\n",
    "        for block in self.BLOCKS[0]:\n",
    "            grid0[self.MAX_ROW - block[0], block[1]] = (255, 255, 255)\n",
    "        for block in self.BLOCKS[1]:\n",
    "            grid1[self.MAX_ROW - block[0], block[1]] = (255, 255, 255)\n",
    "        grid0[self.MAX_ROW - self.agentStates[0][0], self.agentStates[0][1]] = (0, 255, 0)\n",
    "        grid1[self.MAX_ROW - self.agentStates[1][0], self.agentStates[1][1]] = (0, 0, 255)\n",
    "        \n",
    "        grid0.show()\n",
    "        grid1.show()"
   ]
  },
  {
   "cell_type": "markdown",
   "metadata": {},
   "source": [
    "The following ControlAlgorithm, Sarsa and Qlearning class are the same as with the Soccer environment, but their Q has been adapted to the TrickMaze environment. The agents no longer know the position of the other agent, only their own."
   ]
  },
  {
   "cell_type": "code",
   "execution_count": 49,
   "metadata": {
    "collapsed": true
   },
   "outputs": [],
   "source": [
    "class ControlAlgorithm:\n",
    "    def __init__(self, environment, agentId, ALPHA, DISCOUNT, EPSILON):\n",
    "        self.Q = np.zeros((environment.MAX_ROW + 1, environment.MAX_COLUMN + 1, ACTIONS.shape[0]))\n",
    "        self.environment = environment\n",
    "        self.agentId = agentId\n",
    "        self.ALPHA = ALPHA\n",
    "        self.DISCOUNT = DISCOUNT\n",
    "        self.EPSILON = EPSILON\n",
    "        self.actionId = 0\n",
    "        self.previousState = np.copy(self.environment.agentStates[self.agentId])\n",
    "    \n",
    "    def resetQ(self):\n",
    "        self.Q = np.zeros((environment.MAX_ROW + 1, environment.MAX_COLUMN + 1, ACTIONS.shape[0]))\n",
    "        \n",
    "    def prepareBeforeTimeStep(self):\n",
    "        self.previousState = np.copy(self.environment.agentStates[self.agentId])\n",
    "        self.actionId = self.chooseAction()\n",
    "    \n",
    "    def chooseAction(self):\n",
    "        if np.random.rand(1)[0] <= self.EPSILON:\n",
    "            actionId = np.random.randint(ACTIONS.shape[0], size=1)[0]\n",
    "        else:\n",
    "            actionId = np.argmax(self.Q[self.environment.agentStates[self.agentId][0], \n",
    "                                        self.environment.agentStates[self.agentId][1]])\n",
    "            \n",
    "            # If multiple actions have the same max value, we need to choose one of them randomly\n",
    "            possibleActions = []\n",
    "            for i in range(ACTIONS.shape[0]):\n",
    "                if (self.Q[self.environment.agentStates[self.agentId][0], \n",
    "                           self.environment.agentStates[self.agentId][1], i] == \n",
    "                    self.Q[self.environment.agentStates[self.agentId][0], \n",
    "                           self.environment.agentStates[self.agentId][1], actionId]\n",
    "                   ):\n",
    "                    possibleActions.append(i)\n",
    "                    \n",
    "            actionId = random.choice(possibleActions)\n",
    "        \n",
    "        return actionId"
   ]
  },
  {
   "cell_type": "code",
   "execution_count": 50,
   "metadata": {
    "collapsed": true
   },
   "outputs": [],
   "source": [
    "class Sarsa(ControlAlgorithm):\n",
    "    def __init__(self, environment, agentId, ALPHA, DISCOUNT, EPSILON):\n",
    "        ControlAlgorithm.__init__(self, environment, agentId, ALPHA, DISCOUNT, EPSILON)\n",
    "    \n",
    "    def reactToReward(self, reward):\n",
    "        nextActionId = self.chooseAction()\n",
    "        \n",
    "        self.Q[self.previousState[0], self.previousState[1], self.actionId] += self.ALPHA * ( \n",
    "            reward + self.DISCOUNT * self.Q[self.environment.agentStates[self.agentId][0], \n",
    "                                            self.environment.agentStates[self.agentId][1], nextActionId] \n",
    "            - self.Q[self.previousState[0], self.previousState[1], self.actionId])\n",
    "            \n",
    "        self.actionId = nextActionId"
   ]
  },
  {
   "cell_type": "code",
   "execution_count": 51,
   "metadata": {
    "collapsed": true
   },
   "outputs": [],
   "source": [
    "class Qlearning(ControlAlgorithm):\n",
    "    def __init__(self, environment, agentId, ALPHA, DISCOUNT, EPSILON):\n",
    "        ControlAlgorithm.__init__(self, environment, agentId, ALPHA, DISCOUNT, EPSILON)\n",
    "        \n",
    "    def reactToReward(self, reward):\n",
    "        self.Q[self.previousState[0], self.previousState[1], self.actionId] += self.ALPHA * ( \n",
    "            reward + self.DISCOUNT * np.max(self.Q[self.environment.agentStates[self.agentId][0], \n",
    "                                            self.environment.agentStates[self.agentId][1]])\n",
    "            -  self.Q[self.previousState[0], self.previousState[1], self.actionId])"
   ]
  },
  {
   "cell_type": "markdown",
   "metadata": {},
   "source": [
    "The GameManager class is exactly the same as with the Soccer environment, with two added functions to average out the cumulative reward over a fix number of time steps. This will be used to plot results next."
   ]
  },
  {
   "cell_type": "code",
   "execution_count": 52,
   "metadata": {
    "collapsed": true
   },
   "outputs": [],
   "source": [
    "class GameManager:\n",
    "    def __init__(self, environment, agent0, agent1):\n",
    "        self.environment = environment\n",
    "        self.agent0 = agent0\n",
    "        self.agent1 = agent1\n",
    "    \n",
    "    def averageMTimesOverNSteps(self, M, N):\n",
    "        episodesPerTimeStep = np.zeros((2, M, N))\n",
    "        for i in range(M):\n",
    "            self.agent0.resetQ()\n",
    "            self.agent1.resetQ()\n",
    "            episodesPerTimeStep[0, i], episodesPerTimeStep[1, i] = self.runForNTimeSteps(N)\n",
    "\n",
    "        return np.average(episodesPerTimeStep[0], axis=0), np.average(episodesPerTimeStep[1], axis=0)\n",
    "    \n",
    "    def resetQ(self):\n",
    "        self.Q = np.zeros((self.environment.MAX_ROW + 1, self.environment.MAX_COLUMN + 1, ACTIONS.shape[0]))\n",
    "    \n",
    "    def runForNTimeSteps(self, N):\n",
    "        stepCount = 0\n",
    "        cumulativeReward0 = 0\n",
    "        cumulativeReward1 = 0\n",
    "        rewardsPerTimeStep = np.zeros((2, N))\n",
    "        \n",
    "        while stepCount < N:\n",
    "            episodeLength, episodeReward0, episodeReward1 = self.generateEpisode()\n",
    "            cumulativeReward0 += episodeReward0\n",
    "            cumulativeReward1 += episodeReward1\n",
    "            \n",
    "            for i in range(stepCount, stepCount + episodeLength):\n",
    "                if i >= N:\n",
    "                    break\n",
    "                \n",
    "                rewardsPerTimeStep[0, i] = cumulativeReward0\n",
    "                rewardsPerTimeStep[1, i] = cumulativeReward1\n",
    "                \n",
    "            stepCount += episodeLength\n",
    "        \n",
    "        return rewardsPerTimeStep[0], rewardsPerTimeStep[1]\n",
    "    \n",
    "    def generateEpisode(self, visualize=False):\n",
    "        self.environment.reset()\n",
    "        \n",
    "        stepCount = 0\n",
    "        cumulativeReward0 = 0\n",
    "        cumulativeReward1 = 0\n",
    "        \n",
    "        while (not np.array_equal(self.environment.agentStates[0], self.environment.GOAL) and\n",
    "               not np.array_equal(self.environment.agentStates[1], self.environment.GOAL)):\n",
    "            self.agent0.prepareBeforeTimeStep()\n",
    "            self.agent1.prepareBeforeTimeStep()\n",
    "            \n",
    "            rewardAgent0, rewardAgent1 = self.environment.executeActions(self.agent0.actionId, self.agent1.actionId)\n",
    "            cumulativeReward0 += rewardAgent0\n",
    "            cumulativeReward1 += rewardAgent1\n",
    "                \n",
    "            self.agent0.reactToReward(rewardAgent0)\n",
    "            self.agent1.reactToReward(rewardAgent1)\n",
    "            \n",
    "            if visualize:\n",
    "                self.environment.view()\n",
    "                time.sleep(1.0)\n",
    "            \n",
    "            stepCount += 1\n",
    "        \n",
    "        return stepCount, cumulativeReward0, cumulativeReward1"
   ]
  },
  {
   "cell_type": "markdown",
   "metadata": {},
   "source": [
    "We can now compare Sarsa and Q-learning on this Trick Maze environment. As with Soccer, this will be an undiscounted case, γ = 1.0. We will use an α of 0.5 and an ε of 0.1."
   ]
  },
  {
   "cell_type": "code",
   "execution_count": 53,
   "metadata": {
    "collapsed": false
   },
   "outputs": [
    {
     "data": {
      "image/png": "[encoded data removed]",
      "text/plain": [
       "<matplotlib.figure.Figure at 0x108320e10>"
      ]
     },
     "metadata": {},
     "output_type": "display_data"
    }
   ],
   "source": [
    "ALPHA = 0.5\n",
    "DISCOUNT = 1.0\n",
    "EPSILON = 0.1\n",
    "environment = TrickMaze()\n",
    "\n",
    "sarsa = Sarsa(environment, 0, ALPHA, DISCOUNT, EPSILON)\n",
    "ql = Qlearning(environment, 1, ALPHA, DISCOUNT, EPSILON)\n",
    "\n",
    "gm = GameManager(environment, sarsa, ql)\n",
    "\n",
    "rewardsPerTimeStepSarsa, rewardsPerTimeStepQlearning = gm.averageMTimesOverNSteps(100, 3000)\n",
    "\n",
    "plt.plot(np.arange(1, 3001), rewardsPerTimeStepSarsa, 'g', label=\"Sarsa\")\n",
    "plt.plot(np.arange(1, 3001), rewardsPerTimeStepQlearning, 'b', label=\"Q-learning\")\n",
    "plt.legend(bbox_to_anchor=(1.05, 1), loc=2, borderaxespad=0.)\n",
    "plt.xlabel('Time Steps')\n",
    "plt.ylabel('Cumulative Reward')\n",
    "plt.title('Trick Maze, averaged 100 times, over 3000 steps')\n",
    "plt.show()"
   ]
  },
  {
   "cell_type": "markdown",
   "metadata": {},
   "source": [
    "Both algorithms progress equally in the beginning, but Q-learning's slope is more steep and performs better than Sarsa.\n",
    "\n",
    "To view the learned policy of each algorithm, you can run the following cell. Randomness affects results and thus you might see different policies. Sometimes Sarsa and Q-learning just go for the goal and sometimes one of them learns to press on the button. "
   ]
  },
  {
   "cell_type": "code",
   "execution_count": 64,
   "metadata": {
    "collapsed": false
   },
   "outputs": [
    {
     "data": {
      "text/html": [
       "<style type=\"text/css\">table.blockgrid {border: none;} .blockgrid tr {border: none;} .blockgrid td {padding: 0px;} #blocksf9101d7f-e858-4986-9e25-1616c5a70cc0 td {border: 1px solid white;}</style><table id=\"blocksf9101d7f-e858-4986-9e25-1616c5a70cc0\" class=\"blockgrid\"><tbody><tr><td title=\"Index: [0, 0]&#10;Color: (224, 224, 224)\" style=\"width: 20px; height: 20px;background-color: rgb(224, 224, 224);\"></td><td title=\"Index: [0, 1]&#10;Color: (224, 224, 224)\" style=\"width: 20px; height: 20px;background-color: rgb(224, 224, 224);\"></td><td title=\"Index: [0, 2]&#10;Color: (255, 0, 0)\" style=\"width: 20px; height: 20px;background-color: rgb(255, 0, 0);\"></td></tr><tr><td title=\"Index: [1, 0]&#10;Color: (224, 224, 224)\" style=\"width: 20px; height: 20px;background-color: rgb(224, 224, 224);\"></td><td title=\"Index: [1, 1]&#10;Color: (255, 255, 255)\" style=\"width: 20px; height: 20px;background-color: rgb(255, 255, 255);\"></td><td title=\"Index: [1, 2]&#10;Color: (255, 255, 255)\" style=\"width: 20px; height: 20px;background-color: rgb(255, 255, 255);\"></td></tr><tr><td title=\"Index: [2, 0]&#10;Color: (224, 224, 224)\" style=\"width: 20px; height: 20px;background-color: rgb(224, 224, 224);\"></td><td title=\"Index: [2, 1]&#10;Color: (224, 224, 224)\" style=\"width: 20px; height: 20px;background-color: rgb(224, 224, 224);\"></td><td title=\"Index: [2, 2]&#10;Color: (224, 224, 224)\" style=\"width: 20px; height: 20px;background-color: rgb(224, 224, 224);\"></td></tr><tr><td title=\"Index: [3, 0]&#10;Color: (224, 224, 224)\" style=\"width: 20px; height: 20px;background-color: rgb(224, 224, 224);\"></td><td title=\"Index: [3, 1]&#10;Color: (0, 255, 0)\" style=\"width: 20px; height: 20px;background-color: rgb(0, 255, 0);\"></td><td title=\"Index: [3, 2]&#10;Color: (224, 224, 224)\" style=\"width: 20px; height: 20px;background-color: rgb(224, 224, 224);\"></td></tr><tr><td title=\"Index: [4, 0]&#10;Color: (224, 224, 224)\" style=\"width: 20px; height: 20px;background-color: rgb(224, 224, 224);\"></td><td title=\"Index: [4, 1]&#10;Color: (224, 224, 224)\" style=\"width: 20px; height: 20px;background-color: rgb(224, 224, 224);\"></td><td title=\"Index: [4, 2]&#10;Color: (224, 224, 224)\" style=\"width: 20px; height: 20px;background-color: rgb(224, 224, 224);\"></td></tr></tbody></table>"
      ],
      "text/plain": [
       "<IPython.core.display.HTML object>"
      ]
     },
     "metadata": {},
     "output_type": "display_data"
    },
    {
     "data": {
      "text/html": [
       "<style type=\"text/css\">table.blockgrid {border: none;} .blockgrid tr {border: none;} .blockgrid td {padding: 0px;} #blocks64a2a533-1663-4997-b913-c91361f90ca0 td {border: 1px solid white;}</style><table id=\"blocks64a2a533-1663-4997-b913-c91361f90ca0\" class=\"blockgrid\"><tbody><tr><td title=\"Index: [0, 0]&#10;Color: (224, 224, 224)\" style=\"width: 20px; height: 20px;background-color: rgb(224, 224, 224);\"></td><td title=\"Index: [0, 1]&#10;Color: (224, 224, 224)\" style=\"width: 20px; height: 20px;background-color: rgb(224, 224, 224);\"></td><td title=\"Index: [0, 2]&#10;Color: (0, 0, 255)\" style=\"width: 20px; height: 20px;background-color: rgb(0, 0, 255);\"></td></tr><tr><td title=\"Index: [1, 0]&#10;Color: (224, 224, 224)\" style=\"width: 20px; height: 20px;background-color: rgb(224, 224, 224);\"></td><td title=\"Index: [1, 1]&#10;Color: (255, 255, 255)\" style=\"width: 20px; height: 20px;background-color: rgb(255, 255, 255);\"></td><td title=\"Index: [1, 2]&#10;Color: (224, 224, 224)\" style=\"width: 20px; height: 20px;background-color: rgb(224, 224, 224);\"></td></tr><tr><td title=\"Index: [2, 0]&#10;Color: (224, 224, 224)\" style=\"width: 20px; height: 20px;background-color: rgb(224, 224, 224);\"></td><td title=\"Index: [2, 1]&#10;Color: (224, 224, 224)\" style=\"width: 20px; height: 20px;background-color: rgb(224, 224, 224);\"></td><td title=\"Index: [2, 2]&#10;Color: (224, 224, 224)\" style=\"width: 20px; height: 20px;background-color: rgb(224, 224, 224);\"></td></tr><tr><td title=\"Index: [3, 0]&#10;Color: (224, 224, 224)\" style=\"width: 20px; height: 20px;background-color: rgb(224, 224, 224);\"></td><td title=\"Index: [3, 1]&#10;Color: (224, 224, 224)\" style=\"width: 20px; height: 20px;background-color: rgb(224, 224, 224);\"></td><td title=\"Index: [3, 2]&#10;Color: (224, 224, 224)\" style=\"width: 20px; height: 20px;background-color: rgb(224, 224, 224);\"></td></tr><tr><td title=\"Index: [4, 0]&#10;Color: (224, 224, 224)\" style=\"width: 20px; height: 20px;background-color: rgb(224, 224, 224);\"></td><td title=\"Index: [4, 1]&#10;Color: (224, 224, 224)\" style=\"width: 20px; height: 20px;background-color: rgb(224, 224, 224);\"></td><td title=\"Index: [4, 2]&#10;Color: (224, 224, 224)\" style=\"width: 20px; height: 20px;background-color: rgb(224, 224, 224);\"></td></tr></tbody></table>"
      ],
      "text/plain": [
       "<IPython.core.display.HTML object>"
      ]
     },
     "metadata": {},
     "output_type": "display_data"
    },
    {
     "data": {
      "text/plain": [
       "(8, 0, 1)"
      ]
     },
     "execution_count": 64,
     "metadata": {},
     "output_type": "execute_result"
    }
   ],
   "source": [
    "gm = GameManager(environment, sarsa, ql)\n",
    "gm.averageMTimesOverNSteps(1, 3000)\n",
    "gm.generateEpisode(visualize=True)"
   ]
  },
  {
   "cell_type": "markdown",
   "metadata": {},
   "source": [
    "## Conclusion\n",
    "\n",
    "We've implemented and compared the Sarsa and Q-learning algorithms on two competitive environments.\n",
    "\n",
    "In both cases, Q-learning performed better, but in the Trick Maze environment, it did not always learn the optimal policy. \n",
    "\n",
    "It would be interesting to see an algorithm learning the optimal policy every time in the Trick Maze environment, pressing on the button and then taking the short route. More types of algorithms would have to be tried.\n",
    "\n",
    "It would also be interesting to try more competitive environments, especially more complex ones.\n",
    "\n",
    "## References\n",
    "\n",
    "[1] <a href=\"https://webdocs.cs.ualberta.ca/~sutton/book/the-book-2nd.html\">Richard S. Sutton and Andrew G. Barto, \"Reinforcement learning: An introduction\", Second Edition, MIT Press</a>, in preparation<br />\n",
    "The Sarsa algorithm can be found on page 138 and the Q-learning algorithm on page 140."
   ]
  }
 ],
 "metadata": {
  "kernelspec": {
   "display_name": "Python [conda root]",
   "language": "python",
   "name": "conda-root-py"
  },
  "language_info": {
   "codemirror_mode": {
    "name": "ipython",
    "version": 2
   },
   "file_extension": ".py",
   "mimetype": "text/x-python",
   "name": "python",
   "nbconvert_exporter": "python",
   "pygments_lexer": "ipython2",
   "version": "2.7.13"
  }
 },
 "nbformat": 4,
 "nbformat_minor": 2
}
